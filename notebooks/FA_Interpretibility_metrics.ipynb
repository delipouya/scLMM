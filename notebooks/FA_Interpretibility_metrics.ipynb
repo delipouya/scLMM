{
 "cells": [
  {
   "cell_type": "code",
   "execution_count": 2,
   "metadata": {},
   "outputs": [],
   "source": [
    "import numpy as np\n",
    "import import_ipynb\n",
    "#import numpy.linalg as LA\n",
    "#import LMM as lmm\n",
    "import random\n",
    "import time\n",
    "import os\n",
    "import pandas as pd\n",
    "from scipy.io import mmread\n",
    "import scipy.sparse as sp\n",
    "import matplotlib.pyplot as plt\n",
    "from IPython.display import Image\n",
    "import scanpy as sc\n",
    "import matplotlib.pyplot as plt\n",
    "import statsmodels.api as sm\n",
    "\n",
    "from sklearn.preprocessing import StandardScaler\n",
    "from sklearn.decomposition import PCA\n",
    "from sklearn.pipeline import Pipeline\n",
    "import matplotlib.patches as mpatches\n",
    "from statsmodels.graphics.api import abline_plot\n",
    "import seaborn as sns\n",
    "import umap\n",
    "from numpy import eye, asarray, dot, sum, diag\n",
    "from numpy.linalg import svd\n",
    "\n",
    "import statsmodels.formula.api as smf\n",
    "import pandas\n",
    "\n",
    "np.random.seed(10)\n",
    "\n",
    "def get_binary_covariate(covariate, covariate_level, data):\n",
    "    covariate_list = np.zeros((data.obs.shape[0]))\n",
    "    for i in range(data.obs.shape[0]):\n",
    "        ### select the ith element of \n",
    "        if data.obs[[covariate]].squeeze()[i] == covariate_level:\n",
    "            covariate_list[i] = 1\n",
    "    return covariate_list\n",
    "\n",
    "\n",
    "def get_design_mat(a_metadata_col, data):\n",
    "    ### given a column of the dat object metadata, return a onehot encoded design matrix\n",
    "    column_levels = data.obs[a_metadata_col].unique()\n",
    "    dict_covariate = {}\n",
    "    for column_level in column_levels:\n",
    "        print(column_level)\n",
    "        dict_covariate[column_level] = get_binary_covariate(a_metadata_col, column_level, data)\n",
    "\n",
    "    #### stack colummns of dict_covariate \n",
    "    x = np.column_stack((dict_covariate[column] for column in column_levels))\n",
    "    return x\n",
    "\n",
    "\n",
    "\n",
    "def varimax(Phi, gamma = 1.0, q = 100, tol = 1e-6):\n",
    "    p,k = Phi.shape\n",
    "    R = eye(k)\n",
    "    d=0\n",
    "    for i in range(q):\n",
    "        d_old = d\n",
    "        Lambda = dot(Phi, R)\n",
    "        u,s,vh = svd(dot(Phi.T,asarray(Lambda)**3 - (gamma/p) * dot(Lambda, diag(diag(dot(Lambda.T,Lambda))))))\n",
    "        R = dot(u,vh)\n",
    "        d = sum(s)\n",
    "        if d_old!=0 and d/d_old < 1 + tol: break\n",
    "    Lambda = dot(Phi, R)\n",
    "\n",
    "    return {'rotloadings':Lambda, 'rotmat':R}\n"
   ]
  },
  {
   "cell_type": "code",
   "execution_count": 3,
   "metadata": {},
   "outputs": [
    {
     "name": "stdout",
     "output_type": "stream",
     "text": [
      "                   orig.ident  nCount_originalexp  nFeature_originalexp  \\\n",
      "sc_10X_CELL_000001       CELL            266379.0                 10770   \n",
      "sc_10X_CELL_000002       CELL            248501.0                 11155   \n",
      "sc_10X_CELL_000003       CELL            250649.0                 10682   \n",
      "sc_10X_CELL_000004       CELL            249556.0                 10785   \n",
      "sc_10X_CELL_000005       CELL            243926.0                 10435   \n",
      "\n",
      "                    unaligned  aligned_unmapped  mapped_to_exon  \\\n",
      "sc_10X_CELL_000001     167234              8341          526950   \n",
      "sc_10X_CELL_000002     171821             10047          513676   \n",
      "sc_10X_CELL_000003     174510              8608          513021   \n",
      "sc_10X_CELL_000004     158346              7796          504676   \n",
      "sc_10X_CELL_000005     159070              6968          486645   \n",
      "\n",
      "                    mapped_to_intron  ambiguous_mapping  mapped_to_ERCC  \\\n",
      "sc_10X_CELL_000001             40991              21392               0   \n",
      "sc_10X_CELL_000002             41809              23139               0   \n",
      "sc_10X_CELL_000003             42270              20170               0   \n",
      "sc_10X_CELL_000004             39684              18628               0   \n",
      "sc_10X_CELL_000005             38252              20029               0   \n",
      "\n",
      "                    mapped_to_MT  number_of_genes  total_count_per_cell  \\\n",
      "sc_10X_CELL_000001         22342          11237.0              266880.0   \n",
      "sc_10X_CELL_000002         15065          11759.0              249152.0   \n",
      "sc_10X_CELL_000003         20943          11203.0              251204.0   \n",
      "sc_10X_CELL_000004         14021          11237.0              250040.0   \n",
      "sc_10X_CELL_000005         14100          10920.0              244441.0   \n",
      "\n",
      "                    non_mt_percent  non_ribo_percent outliers cell_line  \\\n",
      "sc_10X_CELL_000001        0.823985          0.797096    FALSE    HCC827   \n",
      "sc_10X_CELL_000002        0.823525          0.787884    FALSE     H1975   \n",
      "sc_10X_CELL_000003        0.828956          0.801715    FALSE    HCC827   \n",
      "sc_10X_CELL_000004        0.839618          0.816149    FALSE    HCC827   \n",
      "sc_10X_CELL_000005        0.838746          0.798577    FALSE    HCC827   \n",
      "\n",
      "                   cell_line_demuxlet demuxlet_cls  sample  non_ERCC_percent  \n",
      "sc_10X_CELL_000001             HCC827          SNG  sc_10X               NaN  \n",
      "sc_10X_CELL_000002             HCC827          DBL  sc_10X               NaN  \n",
      "sc_10X_CELL_000003             HCC827          SNG  sc_10X               NaN  \n",
      "sc_10X_CELL_000004             HCC827          SNG  sc_10X               NaN  \n",
      "sc_10X_CELL_000005             HCC827          SNG  sc_10X               NaN  \n",
      "1401 28335\n",
      "['sc_10X' 'CELseq2' 'Dropseq']\n",
      "['HCC827' 'H1975' 'H2228']\n"
     ]
    }
   ],
   "source": [
    "#### import the immune subpopulation of the rat samples\n",
    "data = sc.read('/home/delaram/scLMM/sc_mixology/scMix_3cl_merged.h5ad') ## attributes removed\n",
    "#data = sc.read('/home/delaram/scLMM/sc_mixology/scMix_5cl_merged.h5ad') ## attributes removed\n",
    "\n",
    "\n",
    "data.var_names_make_unique()\n",
    "# a.obs['orig.ident'].head()\n",
    "### renaming the meta info column names: https://github.com/theislab/scvelo/issues/255\n",
    "data.__dict__['_raw'].__dict__['_var'] = data.__dict__['_raw'].__dict__['_var'].rename(columns={'_index': 'features'})\n",
    "\n",
    "data_numpy = data.X.toarray()\n",
    "cell_sums = np.sum(data_numpy,axis=1) # row sums - library size\n",
    "gene_sums = np.sum(data_numpy,axis=0) # col sums - sum reads in a gene\n",
    "gene_vars = np.var(data_numpy, axis=0)\n",
    "data_numpy = data_numpy[:,gene_sums != 0]\n",
    "\n",
    "### print head pf the data.obs\n",
    "print(data.obs.head())\n",
    "\n",
    "#### sample metadata\n",
    "y_cell_line = data.obs.cell_line_demuxlet\n",
    "y_sample = data.obs.sample\n",
    "y_sample = data.obs[['sample']].squeeze()\n",
    "\n",
    "## working with the rat data\n",
    "num_cells = data_numpy.shape[0]\n",
    "num_genes = data_numpy.shape[1]\n",
    "\n",
    "### print the dimensions of the data - 1401 28335\n",
    "print(num_cells, num_genes)\n",
    "\n",
    "\n",
    "num_genes = 5000\n",
    "\n",
    "#### select num_genes genes based on variance\n",
    "### calculate the variance for each gene\n",
    "gene_vars = np.var(data_numpy, axis=0)\n",
    "### select the top num_genes genes with the highest variance\n",
    "gene_idx = np.argsort(gene_vars)[::-1][0:num_genes]\n",
    "### subset the data matrix to the top num_genes genes\n",
    "data_numpy = data_numpy[:, gene_idx]\n",
    "\n",
    "#### randomly select num_genes genes\n",
    "#gene_idx = random.sample(range(0, data_numpy.shape[1]), num_genes)\n",
    "#data_numpy = data_numpy[:, gene_idx]\n",
    "\n",
    "y = data_numpy\n",
    "\n",
    "print(y_sample.unique())\n",
    "print(y_cell_line.unique())\n",
    "\n"
   ]
  },
  {
   "cell_type": "code",
   "execution_count": 4,
   "metadata": {},
   "outputs": [
    {
     "name": "stdout",
     "output_type": "stream",
     "text": [
      "[b'sc_10X' b'sc_10X' b'sc_10X' ... b'Dropseq' b'Dropseq' b'Dropseq']\n",
      "1401\n"
     ]
    },
    {
     "data": {
      "text/plain": [
       "array([b'sc_10X', b'CELseq2', b'Dropseq'], dtype='|S10')"
      ]
     },
     "execution_count": 4,
     "metadata": {},
     "output_type": "execute_result"
    }
   ],
   "source": [
    "#### adding a column to data object for protocol\n",
    "## empty numpy array in length of the number of cells\n",
    "y_protocol = np.empty((y.shape[0]), dtype=\"S10\")\n",
    "\n",
    "for i in range(y.shape[0]):\n",
    "    if data.obs['sample'][i] in ['sc_10x', 'sc_10X']:\n",
    "        y_protocol[i] = 'sc_10X'\n",
    "\n",
    "    elif data.obs['sample'][i] == 'Dropseq':\n",
    "        y_protocol[i] = 'Dropseq'\n",
    "        \n",
    "    else:\n",
    "        y_protocol[i] = 'CELseq2'\n",
    "\n",
    "print(y_protocol)\n",
    "print(len(y_protocol))\n",
    "data.obs['protocol'] = y_protocol\n",
    "y_protocol = pd.Series(y_protocol)\n",
    "y_protocol.unique()"
   ]
  },
  {
   "cell_type": "code",
   "execution_count": 5,
   "metadata": {},
   "outputs": [
    {
     "name": "stdout",
     "output_type": "stream",
     "text": [
      "b'sc_10X'\n",
      "b'CELseq2'\n",
      "b'Dropseq'\n",
      "[[1.00000e+00 2.66379e+05]\n",
      " [1.00000e+00 2.48501e+05]\n",
      " [1.00000e+00 2.50649e+05]]\n",
      "(1401, 2)\n"
     ]
    },
    {
     "name": "stderr",
     "output_type": "stream",
     "text": [
      "/home/delaram/anaconda3/lib/python3.7/site-packages/ipykernel_launcher.py:50: FutureWarning: arrays to stack must be passed as a \"sequence\" type such as list or tuple. Support for non-sequence iterables such as generators is deprecated as of NumPy 1.16 and will raise an error in the future.\n"
     ]
    }
   ],
   "source": [
    "#### Design matrix : Intercept + Depth + protocol\n",
    "\n",
    "#x_batch = get_design_mat('batch', data)\n",
    "x_protocol = get_design_mat('protocol', data)\n",
    "#x_cell_line = get_design_mat('cell_line', data)\n",
    "#x = np.column_stack((data.obs.nCount_originalexp, x_protocol)) #, x_batch\n",
    "#x = sm.add_constant(x) ## adding the intercept\n",
    "\n",
    "x = np.column_stack((np.ones(y.shape[0]), np.array(data.obs.nCount_originalexp)))\n",
    "print(x[0:3,:])\n",
    "print(x.shape)"
   ]
  },
  {
   "cell_type": "code",
   "execution_count": 6,
   "metadata": {},
   "outputs": [
    {
     "name": "stdout",
     "output_type": "stream",
     "text": [
      "time to fit the model:  21.974241971969604\n"
     ]
    }
   ],
   "source": [
    "### fit a poisson regression model to each gene and save the results\n",
    "\n",
    "num_vars = x.shape[1]\n",
    "\n",
    "### make an empty array to store the p-values and coefficients\n",
    "pvalue = []\n",
    "coefficient = []\n",
    "yhat = []\n",
    "tvalues = []\n",
    "resid_pearson = []\n",
    "resid_deviance = []\n",
    "resid_response = []\n",
    "resid_working = []\n",
    "fittedvalues = []\n",
    "nobs = []\n",
    "models = []\n",
    "\n",
    "pearson_chi2 = []\n",
    "deviance = []\n",
    "null_deviance = []\n",
    "\n",
    "### time the fitting process\n",
    "start_time = time.time()\n",
    "\n",
    "for i in range(len(y[0])):\n",
    "    y_a_gene = y[:, i]\n",
    "    model = sm.GLM(y_a_gene, x, family=sm.families.Poisson())\n",
    "    result = model.fit()\n",
    "    #print(result.summary())\n",
    "    \n",
    "    models.append([result])\n",
    "    coefficient.append([result.params])\n",
    "    pvalue.append([result.pvalues]) ## yhat == fittedvalue == mu\n",
    "    yhat.append([result.predict()])\n",
    "    fittedvalues.append([result.fittedvalues])\n",
    "\n",
    "    nobs.append([result.nobs])\n",
    "    tvalues.append([result.tvalues])\n",
    "    resid_pearson.append([result.resid_pearson])\n",
    "    resid_deviance.append([result.resid_deviance])\n",
    "    resid_response.append([result.resid_response])\n",
    "    #resid_working.append([result.resid_working])\n",
    "    \n",
    "    pearson_chi2.append([result.pearson_chi2])\n",
    "    deviance.append([result.deviance])\n",
    "    null_deviance.append([result.null_deviance])\n",
    "\n",
    "end_time = time.time()\n",
    "print('time to fit the model: ', end_time - start_time)\n"
   ]
  },
  {
   "cell_type": "code",
   "execution_count": 7,
   "metadata": {},
   "outputs": [
    {
     "name": "stdout",
     "output_type": "stream",
     "text": [
      "[[0. 0.]\n",
      " [0. 0.]\n",
      " [0. 0.]\n",
      " [0. 0.]\n",
      " [0. 0.]]\n"
     ]
    }
   ],
   "source": [
    "\n",
    "pvalue = np.asarray(pvalue).reshape(num_genes, num_vars)\n",
    "coefficient = np.asarray(coefficient).reshape(num_genes, num_vars)\n",
    "tvalues = np.asarray(tvalues).reshape(num_genes, num_vars)\n",
    "#### print the head of the pvalues\n",
    "print(pvalue[0:5, :])\n",
    "\n",
    "yhat = np.asarray(yhat).reshape(num_genes, num_cells)\n",
    "fittedvalues = np.asarray(fittedvalues).reshape(num_genes, num_cells)\n",
    "resid_pearson = np.asarray(resid_pearson).reshape(num_genes, num_cells)\n",
    "resid_deviance = np.asarray(resid_deviance).reshape(num_genes, num_cells)\n",
    "resid_response = np.asarray(resid_response).reshape(num_genes, num_cells)\n",
    "#resid_working = np.asarray(resid_working).reshape(num_genes, num_cells)\n",
    "nobs = np.asarray(nobs).reshape(num_genes, 1)\n",
    "\n",
    "pearson_chi2 = np.asarray(pearson_chi2).reshape(num_genes, 1)\n",
    "deviance = np.asarray(deviance).reshape(num_genes, 1)\n",
    "null_deviance = np.asarray(null_deviance).reshape(num_genes, 1)\n"
   ]
  },
  {
   "cell_type": "code",
   "execution_count": 8,
   "metadata": {},
   "outputs": [
    {
     "name": "stdout",
     "output_type": "stream",
     "text": [
      "noise_variance:  1.773008142842129\n"
     ]
    }
   ],
   "source": [
    "### applying PCA to the data matrix\n",
    "num_components = 30\n",
    "\n",
    "### applying PCA to the pearson residuals\n",
    "pipeline = Pipeline([('scaling', StandardScaler()), ('pca', PCA(n_components=num_components))])\n",
    "pca_scores = pipeline.fit_transform(resid_pearson.T)\n",
    "pca = pipeline.named_steps['pca']\n",
    "pca_loading = pca.components_\n",
    "\n",
    "#print('explained variance ratio: ', pca.explained_variance_ratio_)\n",
    "#print('singular values: ', pca.singular_values_)#\n",
    "print('noise_variance: ', pca.noise_variance_)\n"
   ]
  },
  {
   "cell_type": "code",
   "execution_count": 88,
   "metadata": {},
   "outputs": [
    {
     "name": "stdout",
     "output_type": "stream",
     "text": [
      "loadings_rot shape:  (5000, 30)\n",
      "rotmat shape:  (30, 30)\n",
      "pca_scores shape:  (1401, 30)\n",
      "pca_scores_rot shape:  (1401, 30)\n"
     ]
    }
   ],
   "source": [
    "##### First implementation of Varimax rotation ####\n",
    "## method: scale(original pc scores) %*% rotmat\n",
    "\n",
    "## apply varimax rotation to the loadings\n",
    "varimax_rot = varimax(pca_loading.T)\n",
    "loadings_rot = varimax_rot['rotloadings']\n",
    "rotmat = varimax_rot['rotmat']\n",
    "pca_scores_rot = dot(pca_scores, rotmat)\n",
    "\n",
    "\n",
    "print('loadings_rot shape: ', loadings_rot.shape)\n",
    "print('rotmat shape: ', rotmat.shape)\n",
    "print('pca_scores shape: ', pca_scores.shape)\n",
    "print('pca_scores_rot shape: ', pca_scores_rot.shape)\n",
    "\n",
    "#plot_pca(pca_scores_rot, pca,7, title='PCA of varimax rotated pearson residuals')\n",
    "#plot_umap(pca_scores_rot, pca, title='UMAP of the varimax-PCs on pearson residuals')\n",
    "\n",
    "\n",
    "\n",
    "pca_scores = pca_scores_rot"
   ]
  },
  {
   "cell_type": "code",
   "execution_count": null,
   "metadata": {},
   "outputs": [],
   "source": [
    "# decision tree for feature importance on a classification problem\n",
    "\n",
    "from sklearn.datasets import make_classification\n",
    "from sklearn.linear_model import LogisticRegression\n",
    "from matplotlib import pyplot\n",
    "from sklearn.tree import DecisionTreeClassifier\n",
    "from sklearn.ensemble import RandomForestClassifier\n",
    "import xgboost\n",
    "from xgboost import XGBClassifier\n",
    "from sklearn.neighbors import KNeighborsClassifier\n",
    "from sklearn.inspection import permutation_importance\n",
    "#X, y = make_classification(n_samples=1000, n_features=10, n_informative=5, n_redundant=5, random_state=1)\n",
    "\n",
    "### matching pca factors to different covariates in the data\n",
    "\n",
    "def get_importance_df(factor_scores, a_binary_cov):\n",
    "\n",
    "    models = {'LogisticRegression': LogisticRegression(), \n",
    "              'DecisionTree': DecisionTreeClassifier(), 'RandomForest': RandomForestClassifier(), \n",
    "              'XGB': XGBClassifier(), 'KNeighbors_permute': KNeighborsClassifier()}\n",
    "\n",
    "    importance_dict = {}\n",
    "    for model_name, model in models.items():\n",
    "        X, y = factor_scores, a_binary_cov\n",
    "        model.fit(X, y)\n",
    "\n",
    "        if model_name == 'LogisticRegression':\n",
    "            importance_dict[model_name] = model.coef_[0]\n",
    "\n",
    "        elif model_name in ['DecisionTree', 'RandomForest', 'XGB']:\n",
    "            # get importance\n",
    "            importance_dict[model_name] = model.feature_importances_\n",
    "        else:\n",
    "            # perform permutation importance\n",
    "            results = permutation_importance(model, X, y, scoring='accuracy')\n",
    "            # perform permutation importance\n",
    "            importance_dict[model_name] = results.importances_mean\n",
    "\n",
    "    importance_df = pd.DataFrame.from_dict(importance_dict, orient='index', columns=['PC'+str(i) for i in range(1, num_components+1)])\n",
    "    return importance_df\n",
    "\n",
    "\n",
    "#### calculate the mean importance of one level of a given covariate and returns a vector of length num_components\n",
    "def get_mean_importance_level(importance_df_a_level):\n",
    "    importance_df_np = np.asarray(importance_df_a_level)\n",
    "    ### scale each row of the importance_df_np to be positive\n",
    "    importance_df_np = importance_df_np - importance_df_np.min(axis=1, keepdims=True)\n",
    "    ### normalize each row of the importance_df_np to be between 0 and 1\n",
    "    importance_df_np = importance_df_np / importance_df_np.max(axis=1, keepdims=True)\n",
    "    ### calculate the mean of each column of the importance_df_np\n",
    "    mean_importance = np.mean(importance_df_np, axis=0)\n",
    "    return mean_importance\n",
    "\n",
    "\n",
    "#### calculate the mean importance of all levels of a given covariate and returns a dataframe of size (num_levels, num_components)\n",
    "def get_mean_importance_all_levels(covariate_name, data, factor_scores):\n",
    "\n",
    "    mean_importance_df = pd.DataFrame(columns=['PC'+str(i) for i in range(1, num_components+1)])\n",
    "\n",
    "    for covariate_level in np.unique(data.obs[covariate_name]):\n",
    "        print('covariate_level: ', covariate_level)\n",
    "\n",
    "        a_binary_cov = get_binary_covariate(covariate_name, covariate_level, data)\n",
    "        importance_df_a_level = get_importance_df(factor_scores, a_binary_cov)\n",
    "        mean_importance_a_level = get_mean_importance_level(importance_df_a_level)\n",
    "\n",
    "        print('mean_importance_a_level:', mean_importance_a_level)\n",
    "        mean_importance_df.loc[covariate_level] = mean_importance_a_level\n",
    "\n",
    "    return mean_importance_df\n",
    "\n",
    "\n",
    "covariate_name =  'protocol'#'cell_line'\n",
    "covariate_level = b'Dropseq'\n",
    "factor_scores = pca_scores_rot\n",
    "\n",
    "### calculate the mean importance of each covariate level\n",
    "mean_importance_df_protocol = get_mean_importance_all_levels('protocol', data, factor_scores)\n",
    "mean_importance_df_cell_line = get_mean_importance_all_levels('cell_line', data, factor_scores)\n",
    "\n"
   ]
  },
  {
   "cell_type": "code",
   "execution_count": 157,
   "metadata": {},
   "outputs": [
    {
     "name": "stderr",
     "output_type": "stream",
     "text": [
      "/home/delaram/anaconda3/lib/python3.7/site-packages/xgboost/sklearn.py:1224: UserWarning: The use of label encoder in XGBClassifier is deprecated and will be removed in a future release. To remove this warning, do the following: 1) Pass option use_label_encoder=False when constructing XGBClassifier object; and 2) Encode your labels (y) as integers starting with 0, i.e. 0, 1, 2, ..., [num_class - 1].\n",
      "  warnings.warn(label_encoder_deprecation_msg, UserWarning)\n"
     ]
    },
    {
     "name": "stdout",
     "output_type": "stream",
     "text": [
      "[13:05:14] WARNING: ../src/learner.cc:1115: Starting in XGBoost 1.3.0, the default evaluation metric used with the objective 'binary:logistic' was changed from 'error' to 'logloss'. Explicitly set eval_metric if you'd like to restore the old behavior.\n"
     ]
    },
    {
     "name": "stderr",
     "output_type": "stream",
     "text": [
      "/home/delaram/anaconda3/lib/python3.7/site-packages/sklearn/linear_model/_logistic.py:940: ConvergenceWarning: lbfgs failed to converge (status=1):\n",
      "STOP: TOTAL NO. of ITERATIONS REACHED LIMIT.\n",
      "\n",
      "Increase the number of iterations (max_iter) or scale the data as shown in:\n",
      "    https://scikit-learn.org/stable/modules/preprocessing.html\n",
      "Please also refer to the documentation for alternative solver options:\n",
      "    https://scikit-learn.org/stable/modules/linear_model.html#logistic-regression\n",
      "  extra_warning_msg=_LOGISTIC_SOLVER_CONVERGENCE_MSG)\n",
      "/home/delaram/anaconda3/lib/python3.7/site-packages/xgboost/sklearn.py:1224: UserWarning: The use of label encoder in XGBClassifier is deprecated and will be removed in a future release. To remove this warning, do the following: 1) Pass option use_label_encoder=False when constructing XGBClassifier object; and 2) Encode your labels (y) as integers starting with 0, i.e. 0, 1, 2, ..., [num_class - 1].\n",
      "  warnings.warn(label_encoder_deprecation_msg, UserWarning)\n"
     ]
    },
    {
     "name": "stdout",
     "output_type": "stream",
     "text": [
      "[13:05:29] WARNING: ../src/learner.cc:1115: Starting in XGBoost 1.3.0, the default evaluation metric used with the objective 'binary:logistic' was changed from 'error' to 'logloss'. Explicitly set eval_metric if you'd like to restore the old behavior.\n"
     ]
    },
    {
     "name": "stderr",
     "output_type": "stream",
     "text": [
      "/home/delaram/anaconda3/lib/python3.7/site-packages/xgboost/sklearn.py:1224: UserWarning: The use of label encoder in XGBClassifier is deprecated and will be removed in a future release. To remove this warning, do the following: 1) Pass option use_label_encoder=False when constructing XGBClassifier object; and 2) Encode your labels (y) as integers starting with 0, i.e. 0, 1, 2, ..., [num_class - 1].\n",
      "  warnings.warn(label_encoder_deprecation_msg, UserWarning)\n"
     ]
    },
    {
     "name": "stdout",
     "output_type": "stream",
     "text": [
      "[13:05:44] WARNING: ../src/learner.cc:1115: Starting in XGBoost 1.3.0, the default evaluation metric used with the objective 'binary:logistic' was changed from 'error' to 'logloss'. Explicitly set eval_metric if you'd like to restore the old behavior.\n",
      "b'sc_10X'\n",
      "Highest scoring factor in each model for \"b'sc_10X'\":\n",
      "                         \n",
      "LogisticRegression  PC19\n",
      "DecisionTree         PC1\n",
      "RandomForest         PC1\n",
      "XGB                  PC1\n",
      "KNeighbors_permute   PC6 \n",
      "\n",
      "Highest factor for \"b'sc_10X'\" based on voting:  PC1\n",
      "b'CELseq2'\n",
      "Highest scoring factor in each model for \"b'CELseq2'\":\n",
      "                         \n",
      "LogisticRegression  PC22\n",
      "DecisionTree        PC19\n",
      "RandomForest        PC19\n",
      "XGB                 PC19\n",
      "KNeighbors_permute   PC9 \n",
      "\n",
      "Highest factor for \"b'CELseq2'\" based on voting:  PC19\n",
      "b'Dropseq'\n",
      "Highest scoring factor in each model for \"b'Dropseq'\":\n",
      "                         \n",
      "LogisticRegression  PC19\n",
      "DecisionTree        PC19\n",
      "RandomForest        PC19\n",
      "XGB                 PC19\n",
      "KNeighbors_permute   PC9 \n",
      "\n",
      "Highest factor for \"b'Dropseq'\" based on voting:  PC19\n",
      "b'Dropseq'\n",
      "PC19\n"
     ]
    },
    {
     "data": {
      "image/png": "[encoded data removed]",
      "text/plain": [
       "<Figure size 720x720 with 1 Axes>"
      ]
     },
     "metadata": {
      "needs_background": "light"
     },
     "output_type": "display_data"
    }
   ],
   "source": [
    "##### Navigating individual covariate levels and their factor importance scores\n",
    "### visualizing the feature importance using a heatmap\n",
    "import seaborn as sns\n",
    "import pandas as pd\n",
    "import dataframe_image as dfi\n",
    "import seaborn as sns\n",
    "import pandas as pd\n",
    "import dataframe_image as dfi\n",
    "### visualizing the feature importance using a heatmap\n",
    "import seaborn as sns\n",
    "import pandas as pd\n",
    "import dataframe_image as dfi\n",
    "\n",
    "\n",
    "covariate_name =  'protocol'#'cell_line'\n",
    "factor_scores = pca_scores_rot\n",
    "cov_level_feature_df_dict = {}\n",
    "\n",
    "y_label = data.obs[covariate_name]\n",
    "\n",
    "##### saving the importance of each covariate level in a dictionary\n",
    "for covariate_level in y_label.unique():\n",
    "    a_binary_cov = get_binary_covariate(covariate_name, covariate_level, data)\n",
    "    factor_scores = pca_scores_rot\n",
    "    cov_level_feature_df_dict[covariate_level] = get_importance_df(factor_scores, a_binary_cov)\n",
    "\n",
    "\n",
    "a_cov_match_factor_dict = {}\n",
    "a_cov_match_factor_dict_all = {}\n",
    "\n",
    "for covariate_level in cov_level_feature_df_dict:\n",
    "    importance_df = cov_level_feature_df_dict[covariate_level]\n",
    "    print(covariate_level)\n",
    "    #dfi.export(importance_df.style.background_gradient(cmap='Blues', axis=1 ), '/home/delaram/scLMM/feature_heatmap_images/imp_heatmap_'+ covariate_level+'.png')\n",
    "    \n",
    "    ## identify the column (PC) with max value in each row (ML model)\n",
    "    match_factor_table = importance_df.idxmax(axis='columns')\n",
    "    highest_vote_factor = str(list(match_factor_table.mode())[0])\n",
    "    print('Highest scoring factor in each model for \\\"'+ str(covariate_level)+ '\\\":\\n', match_factor_table.to_frame(name=''), '\\n')\n",
    "    \n",
    "    print('Highest factor for \\\"'+ str(covariate_level)+ '\\\" based on voting: ', str(highest_vote_factor))\n",
    "\n",
    "    a_cov_match_factor_dict[covariate_level] = highest_vote_factor\n",
    "    a_cov_match_factor_dict_all[covariate_level] = match_factor_table.to_frame(name='')\n",
    "\n",
    "\n",
    "covariate_level = list(cov_level_feature_df_dict.keys())[2]\n",
    "print(covariate_level)\n",
    "print(highest_vote_factor)\n",
    "importance_df = cov_level_feature_df_dict[covariate_level]\n",
    "#importance_df.style.background_gradient(cmap='Blues', axis=1 )\n",
    "\n",
    "### visualizing the feature importance using a heatmap\n",
    "importance_df_np = np.asarray(importance_df)\n",
    "### plot the heatmap\n",
    "fig, ax = plt.subplots(figsize=(10, 10))\n",
    "im = ax.imshow(importance_df_np, cmap='Blues')\n",
    "### add the labels\n",
    "ax.set_xticks(np.arange(len(importance_df.columns)))\n",
    "ax.set_yticks(np.arange(len(importance_df.index)))\n",
    "ax.set_xticklabels(importance_df.columns)\n",
    "ax.set_yticklabels(importance_df.index)\n",
    "plt.setp(ax.get_xticklabels(), rotation=45, ha=\"right\",\n",
    "            rotation_mode=\"anchor\")\n",
    "### add the colorbar\n",
    "#cbar = ax.figure.colorbar(im, ax=ax)\n",
    "#cbar.ax.set_ylabel('Importance', rotation=-90, va=\"bottom\")\n",
    "### show the plot\n",
    "fig.tight_layout()\n",
    "plt.show()"
   ]
  },
  {
   "cell_type": "code",
   "execution_count": 156,
   "metadata": {},
   "outputs": [
    {
     "data": {
      "image/png": "[encoded data removed]",
      "text/plain": [
       "<Figure size 936x216 with 2 Axes>"
      ]
     },
     "metadata": {
      "needs_background": "light"
     },
     "output_type": "display_data"
    }
   ],
   "source": [
    "mean_importance_df_protocol.shape\n",
    "mean_importance_df_cell_line\n",
    "\n",
    "### concatenate mean_importance_df_protocol and mean_importance_df_cell_line\n",
    "mean_importance_df = pd.concat([mean_importance_df_protocol, mean_importance_df_cell_line], axis=0)\n",
    "mean_importance_df.shape\n",
    "### plot mean_importance_df as a heatmap\n",
    "fig, ax = plt.subplots(figsize=(13, 3))\n",
    "sns.heatmap(mean_importance_df, cmap='coolwarm', ax=ax)\n",
    "ax.set_title('Mean importance of each PC for each covariate level')\n",
    "plt.show()\n"
   ]
  },
  {
   "cell_type": "code",
   "execution_count": 167,
   "metadata": {},
   "outputs": [
    {
     "data": {
      "image/png": "[encoded data removed]",
      "text/plain": [
       "<Figure size 720x360 with 1 Axes>"
      ]
     },
     "metadata": {
      "needs_background": "light"
     },
     "output_type": "display_data"
    }
   ],
   "source": [
    "### scale the mean_importance_df base on column so that each column is between 0 and 1\n",
    "\n",
    "### calculating specificity of a single factor\n",
    "def get_factor_specificity(factor_i, mean_importance_df, p_all_factors):\n",
    "    p_factor_i = p_all_factors[factor_i]\n",
    "    S_factor = 0 \n",
    "    for lev in range(mean_importance_df.shape[0]):\n",
    "        p_factor_lev = mean_importance_df.iloc[lev, factor_i]\n",
    "        S_factor += (p_factor_lev/p_factor_i)*np.log(p_factor_lev/p_factor_i)\n",
    "    return S_factor/mean_importance_df.shape[0]\n",
    "\n",
    "\n",
    "def get_all_factors_specificity(mean_importance_df):\n",
    "    factor_specificity_all = []\n",
    "    p_all_factors = np.sum(np.asarray(mean_importance_df), axis=0)/mean_importance_df.shape[0]\n",
    "    for factor_i in range(mean_importance_df.shape[1]):\n",
    "        S_factor = get_factor_specificity(factor_i, mean_importance_df, p_all_factors)\n",
    "        factor_specificity_all.append(S_factor)\n",
    "    return factor_specificity_all\n",
    "\n",
    "factor_specificity_all = get_all_factors_specificity(mean_importance_df)\n",
    "\n",
    "\n",
    "### plot the factor specificity as a bar plot\n",
    "fig, ax = plt.subplots(figsize=(10, 5))\n",
    "ax.bar(range(len(factor_specificity_all)), factor_specificity_all)\n",
    "ax.set_xticks(range(len(factor_specificity_all)))\n",
    "ax.set_xticklabels(mean_importance_df.columns, rotation=45, ha=\"right\",)\n",
    "ax.set_title('Specificity of each factor')\n",
    "plt.show()\n"
   ]
  },
  {
   "cell_type": "code",
   "execution_count": null,
   "metadata": {},
   "outputs": [],
   "source": []
  },
  {
   "cell_type": "code",
   "execution_count": 98,
   "metadata": {},
   "outputs": [
    {
     "name": "stdout",
     "output_type": "stream",
     "text": [
      "{b'sc_10X': 'PC1', b'CELseq2': 'PC19', b'Dropseq': 'PC19'}\n"
     ]
    }
   ],
   "source": [
    "\n",
    "### print the levels of the protocol metadata ['sc_10X' 'CELseq2' 'Dropseq']\n",
    "# print the levels of the cell line metadata ['HCC827' 'H1975' 'H2228']\n",
    "\n",
    "### generating the list of colors for samples\n",
    "my_color = {b'sc_10X': 'palegreen', b'CELseq2':'yellow', b'Dropseq':'pink'}\n",
    "### generate a list containing the corresponding color for each sample\n",
    "protocol_color = [my_color[y_protocol[i]] for i in range(len(y_protocol))]\n",
    "\n",
    "my_color = {'HCC827': 'springgreen', 'H1975':'red', 'H2228':'orchid'}\n",
    "cell_line_color = [my_color[y_cell_line[i]] for i in range(len(y_cell_line))]\n",
    "\n",
    "\n",
    "print(a_cov_match_factor_dict)"
   ]
  },
  {
   "cell_type": "code",
   "execution_count": 104,
   "metadata": {},
   "outputs": [
    {
     "name": "stdout",
     "output_type": "stream",
     "text": [
      "b'sc_10X' PC1\n"
     ]
    },
    {
     "data": {
      "image/png": "[encoded data removed]",
      "text/plain": [
       "<Figure size 432x288 with 1 Axes>"
      ]
     },
     "metadata": {
      "needs_background": "light"
     },
     "output_type": "display_data"
    },
    {
     "data": {
      "image/png": "[encoded data removed]",
      "text/plain": [
       "<Figure size 432x288 with 1 Axes>"
      ]
     },
     "metadata": {
      "needs_background": "light"
     },
     "output_type": "display_data"
    }
   ],
   "source": [
    "print(covariate_level, a_cov_match_factor_dict[covariate_level])\n",
    "        \n",
    "highest_vote_factor = a_cov_match_factor_dict[covariate_level]\n",
    "i = int(highest_vote_factor[2:]) - 1\n",
    "plt.figure()\n",
    "plt.scatter(pca_scores_rot[:,1], pca_scores_rot[:,i], c=cell_line_color, s=1) \n",
    "plt.xlabel('PC2')\n",
    "plt.ylabel('PC'+str(i+1))\n",
    "plt.legend(handles=[mpatches.Patch(color='springgreen', label='HCC827'),\n",
    "            mpatches.Patch(color='red', label='H838'),\n",
    "            mpatches.Patch(color='orchid', label='H1975'),\n",
    "            mpatches.Patch(color='blue', label='H2228'),\n",
    "            mpatches.Patch(color='orange', label='A549')])\n",
    "\n",
    "\n",
    "plt.show()\n",
    "#plt.savefig('/home/delaram/scLMM/feature_heatmap_images/PCAplot_match_'+ covariate_level+'_c_cell_line.png')\n",
    "\n",
    "\n",
    "plt.figure()\n",
    "plt.scatter(pca_scores_rot[:,1], pca_scores_rot[:,i], c=protocol_color, s=1)\n",
    "plt.xlabel('PC2')\n",
    "plt.ylabel('PC'+str(i+1))\n",
    "plt.legend(handles=[mpatches.Patch(color='palegreen', label=b'sc_10X'),\n",
    "    mpatches.Patch(color='yellow', label=b'Dropseq'),\n",
    "    mpatches.Patch(color='pink', label= b'CELseq2')], loc='best')\n",
    "plt.show()\n"
   ]
  },
  {
   "cell_type": "code",
   "execution_count": null,
   "metadata": {},
   "outputs": [],
   "source": []
  },
  {
   "cell_type": "code",
   "execution_count": 91,
   "metadata": {},
   "outputs": [
    {
     "name": "stdout",
     "output_type": "stream",
     "text": [
      "[457.7025664107307, 449.04046267869893, 362.5678510309681, 446.8720861626566, 432.94773717599173, 467.13048135504766, 475.6852274826582, 482.53180971472, 406.95489904254873, 463.48857543562934, 479.7406915284615, 263.41837425386166, 329.8565809354299, 468.9269548066539, 476.3272816377119, 235.17458743624803, 290.535707350048, 421.3762870631776, 114.42265195650413, 440.40747769198623, 440.83155824106734, 372.77137949547574, 422.06114727897153, 484.43765447801775, 412.079722687233, 466.68041995604534, 439.9949111003024, 258.98065039528313, 438.0835965801115, 424.5391894944444]\n"
     ]
    },
    {
     "data": {
      "image/png": "[encoded data removed]",
      "text/plain": [
       "<Figure size 432x288 with 1 Axes>"
      ]
     },
     "metadata": {
      "needs_background": "light"
     },
     "output_type": "display_data"
    }
   ],
   "source": [
    "\n",
    "def get_factor_entropy(a_factor):\n",
    "    ### caculate number of zeros in pk\n",
    "    num_zeros = np.count_nonzero(a_factor == 0)\n",
    "    #print('num_zeros: ', num_zeros)\n",
    "    ### shift all the values to be positive\n",
    "    a_factor = a_factor - np.min(a_factor) + 1e-10\n",
    "    ### devide all the score by the max value\n",
    "    a_factor = a_factor / np.max(a_factor)\n",
    "    #plt.hist(a_factor, bins=100)\n",
    "    H = -sum(a_factor * np.log(a_factor))\n",
    "    #print('H: ', H)\n",
    "    return H\n",
    "\n",
    "def get_factor_entropy_all(pca_scores):\n",
    "    ### calculate the entropy of all the factors\n",
    "    H_all = []\n",
    "    for i in range(num_components):\n",
    "        a_factor = pca_scores[:,i]\n",
    "        H = get_factor_entropy(a_factor)\n",
    "        H_all.append(H)\n",
    "    return H_all\n",
    "    \n",
    "i = 0 \n",
    "a_factor = pca_scores[:,i]\n",
    "\n",
    "factor_entropy_all = get_factor_entropy_all(pca_scores)\n",
    "print(factor_entropy_all)\n",
    "### plot the entropy of all the factors as a bar plot\n",
    "plt.bar(range(num_components), factor_entropy_all)\n",
    "plt.xlabel('factor')\n",
    "plt.ylabel('entropy')\n",
    "plt.show()\n"
   ]
  },
  {
   "cell_type": "code",
   "execution_count": 92,
   "metadata": {},
   "outputs": [
    {
     "name": "stdout",
     "output_type": "stream",
     "text": [
      "[0.6449179656579141, 0.07382513317013464, 0.030224635996968792]\n",
      "[0.6449179656579141, 0.07382513317013464, 0.030224635996968792]\n",
      "[0.6449179656579141, 0.07382513317013464, 0.030224635996968792]\n",
      "[1.2543790062745215, 0.1853233696690762, 0.10895287218688691]\n",
      "[0.2557716227497128, 2.6524452759483075, 0.8006961682189688]\n",
      "[1.113240145177832, 0.13915675537051264, 0.19059623200459633]\n",
      "[1.22637223204511, 0.45076675290519486, 0.6264983142726079]\n",
      "[1.216640964852962, 0.15948346896116997, 0.11742563080615696]\n",
      "[0.9689331545524552, 0.12567951034581137, 0.09705611016725761]\n",
      "[1.0411101016835929, 1.0361727236329117, 0.6667558601999903]\n",
      "[0.11653872411341255, 0.4818686670015282, 2.635145754018992]\n",
      "[1.0522132872795353, 1.0155174261892352, 0.7501216337348291]\n",
      "[1.1215714080127082, 0.4939093534446231, 0.5541462620559329]\n",
      "[1.3406489247719993, 0.26868222888309945, 0.12600900259679293]\n",
      "[0.4142161058536283, 2.59914374976348, 0.539282287620593]\n",
      "[1.227404006931651, 0.09654766655540908, 0.20211352521014686]\n",
      "[1.2959181982537509, 0.4037167003029987, 0.3177777496950281]\n",
      "[0.4815464728084564, 2.125260179746185, 0.6863248133002291]\n",
      "[1.148442141562774, 0.41566759116117025, 0.3074717972732599]\n",
      "[1.0951961419148288, 0.381999291648078, 0.2855139486884592]\n",
      "[0.06503882629223726, 2.1513626936957992, 0.10016529710610679]\n",
      "[1.353183064688126, 0.3231683024467683, 0.23614589900575833]\n",
      "[1.1034558244972725, 0.20549690853161115, 0.12930608002772978]\n",
      "[0.14440891629008756, 3.1605381590938038, 0.05842409920274114]\n",
      "[1.0068087342888268, 0.5490760356199028, 0.5483204381443006]\n",
      "[1.2311489924984345, 0.5912796135704501, 0.5347656454548979]\n",
      "[1.2539204717500874, 0.5920371968448438, 0.31359698515318996]\n",
      "[1.1370123153233984, 0.7262064714576814, 0.5681073081963598]\n",
      "[1.073311679216348, 0.7990802488180005, 0.8242004449608662]\n",
      "[1.218523083922293, 0.2339702966490659, 0.13348966647071717]\n",
      "[1.0174854645259412, 0.5508139517879644, 0.3378044660693437]\n",
      "[1.2879099650145713, 0.5643169240539989, 0.22131448073197402]\n",
      "[1.2622225849214572, 0.9303353772521652, 0.8211381413660696]\n",
      "[0.08128232067998009, 0.07611747977696703, 1.0038628861310046]\n",
      "[0.7304646849909323, 1.3963139953502997, 0.43223256705635893]\n",
      "[1.475435097292891, 0.45589801632683863, 0.22733183131199025]\n",
      "[1.041120772763006, 1.1249776775324338, 0.809390265316282]\n",
      "[0.23576643276698808, 1.326180749144144, 0.0901161563707948]\n",
      "[0.9958886460594527, 0.822972028053024, 0.9645993446786304]\n",
      "[0.8257251811648212, 0.729429467919621, 1.4348904308434407]\n",
      "[1.2827027096053114, 1.143251558394328, 0.4820284529425409]\n",
      "[0.7108565775187036, 0.8725595995837064, 1.2997204415667858]\n",
      "[2.118693944997138, 0.2933903414013488, 0.18573595093506884]\n",
      "[0.157386887950885, 0.1334019443875427, 1.8804614600492722]\n",
      "[0.41902662089508935, 0.4197374713617924, 1.2298100172185213]\n",
      "[0.1616070964063467, 1.4838741617421425, 0.10284323240775141]\n",
      "[0.2496678094498104, 2.0534692561468453, 0.12261137789933384]\n",
      "[1.1691621362893767, 0.26097330363961874, 0.1881329155820951]\n",
      "[0.32580536345590616, 1.586600143411232, 0.47015672763984173]\n",
      "[0.6852607279962272, 0.6645761371205401, 1.2013522594614863]\n",
      "[1.0164254294274588, 1.2924896886659576, 0.6239165907713143]\n",
      "[1.0663882858285076, 0.4124286356263367, 0.21700925555977088]\n",
      "[0.1807026699643295, 0.2949139245834821, 0.9624701969143076]\n",
      "[1.3114969344327598, 1.0099174159239854, 0.6824851925004743]\n",
      "[0.8489553851729881, 0.744951283647055, 1.1951221657200186]\n",
      "[1.7814420532803668, 0.4514446719403769, 0.21407394394226992]\n",
      "[0.9792988995420154, 1.1009921688023625, 0.6539850066510693]\n",
      "[1.3883709664434105, 1.0799753157697618, 0.5317534777465047]\n",
      "[1.229385964062953, 1.0155322220293475, 0.4439827241236161]\n",
      "[0.1398084780986787, 0.18905060047824085, 1.383535114085246]\n",
      "[0.9660800110445169, 0.8948420317360423, 0.918173110196744]\n",
      "[0.6624107068051969, 0.8743959318499313, 1.4303646320313992]\n",
      "SV_level:  0.6449179656579141\n",
      "SV_all:  [0.6449179656579141, 0.07382513317013464, 0.030224635996968792]\n",
      "RSV:  0.2496559116083392\n",
      "[0.6449179656579141, 0.07382513317013464, 0.030224635996968792]\n",
      "[1.2543790062745215, 0.1853233696690762, 0.10895287218688691]\n",
      "[0.2557716227497128, 2.6524452759483075, 0.8006961682189688]\n",
      "[1.113240145177832, 0.13915675537051264, 0.19059623200459633]\n",
      "[1.22637223204511, 0.45076675290519486, 0.6264983142726079]\n",
      "[1.216640964852962, 0.15948346896116997, 0.11742563080615696]\n",
      "[0.9689331545524552, 0.12567951034581137, 0.09705611016725761]\n",
      "[1.0411101016835929, 1.0361727236329117, 0.6667558601999903]\n",
      "[0.11653872411341255, 0.4818686670015282, 2.635145754018992]\n",
      "[1.0522132872795353, 1.0155174261892352, 0.7501216337348291]\n",
      "[1.1215714080127082, 0.4939093534446231, 0.5541462620559329]\n",
      "[1.3406489247719993, 0.26868222888309945, 0.12600900259679293]\n",
      "[0.4142161058536283, 2.59914374976348, 0.539282287620593]\n",
      "[1.227404006931651, 0.09654766655540908, 0.20211352521014686]\n",
      "[1.2959181982537509, 0.4037167003029987, 0.3177777496950281]\n",
      "[0.4815464728084564, 2.125260179746185, 0.6863248133002291]\n",
      "[1.148442141562774, 0.41566759116117025, 0.3074717972732599]\n",
      "[1.0951961419148288, 0.381999291648078, 0.2855139486884592]\n",
      "[0.06503882629223726, 2.1513626936957992, 0.10016529710610679]\n",
      "[1.353183064688126, 0.3231683024467683, 0.23614589900575833]\n",
      "[1.1034558244972725, 0.20549690853161115, 0.12930608002772978]\n",
      "[0.14440891629008756, 3.1605381590938038, 0.05842409920274114]\n",
      "[1.0068087342888268, 0.5490760356199028, 0.5483204381443006]\n",
      "[1.2311489924984345, 0.5912796135704501, 0.5347656454548979]\n",
      "[1.2539204717500874, 0.5920371968448438, 0.31359698515318996]\n",
      "[1.1370123153233984, 0.7262064714576814, 0.5681073081963598]\n",
      "[1.073311679216348, 0.7990802488180005, 0.8242004449608662]\n",
      "[1.218523083922293, 0.2339702966490659, 0.13348966647071717]\n",
      "[1.0174854645259412, 0.5508139517879644, 0.3378044660693437]\n",
      "[1.2879099650145713, 0.5643169240539989, 0.22131448073197402]\n",
      "[1.2622225849214572, 0.9303353772521652, 0.8211381413660696]\n",
      "[0.08128232067998009, 0.07611747977696703, 1.0038628861310046]\n",
      "[0.7304646849909323, 1.3963139953502997, 0.43223256705635893]\n",
      "[1.475435097292891, 0.45589801632683863, 0.22733183131199025]\n",
      "[1.041120772763006, 1.1249776775324338, 0.809390265316282]\n",
      "[0.23576643276698808, 1.326180749144144, 0.0901161563707948]\n",
      "[0.9958886460594527, 0.822972028053024, 0.9645993446786304]\n",
      "[0.8257251811648212, 0.729429467919621, 1.4348904308434407]\n",
      "[1.2827027096053114, 1.143251558394328, 0.4820284529425409]\n",
      "[0.7108565775187036, 0.8725595995837064, 1.2997204415667858]\n",
      "[2.118693944997138, 0.2933903414013488, 0.18573595093506884]\n",
      "[0.157386887950885, 0.1334019443875427, 1.8804614600492722]\n",
      "[0.41902662089508935, 0.4197374713617924, 1.2298100172185213]\n",
      "[0.1616070964063467, 1.4838741617421425, 0.10284323240775141]\n",
      "[0.2496678094498104, 2.0534692561468453, 0.12261137789933384]\n",
      "[1.1691621362893767, 0.26097330363961874, 0.1881329155820951]\n",
      "[0.32580536345590616, 1.586600143411232, 0.47015672763984173]\n",
      "[0.6852607279962272, 0.6645761371205401, 1.2013522594614863]\n",
      "[1.0164254294274588, 1.2924896886659576, 0.6239165907713143]\n",
      "[1.0663882858285076, 0.4124286356263367, 0.21700925555977088]\n",
      "[0.1807026699643295, 0.2949139245834821, 0.9624701969143076]\n",
      "[1.3114969344327598, 1.0099174159239854, 0.6824851925004743]\n",
      "[0.8489553851729881, 0.744951283647055, 1.1951221657200186]\n",
      "[1.7814420532803668, 0.4514446719403769, 0.21407394394226992]\n",
      "[0.9792988995420154, 1.1009921688023625, 0.6539850066510693]\n",
      "[1.3883709664434105, 1.0799753157697618, 0.5317534777465047]\n",
      "[1.229385964062953, 1.0155322220293475, 0.4439827241236161]\n",
      "[0.1398084780986787, 0.18905060047824085, 1.383535114085246]\n",
      "[0.9660800110445169, 0.8948420317360423, 0.918173110196744]\n",
      "[0.6624107068051969, 0.8743959318499313, 1.4303646320313992]\n",
      "SV_all_factors:  (6, 30)\n",
      "[b'CELseq2' b'Dropseq' b'sc_10X' 'H1975' 'H2228' 'HCC827']\n"
     ]
    },
    {
     "data": {
      "image/png": "[encoded data removed]",
      "text/plain": [
       "<Figure size 720x720 with 1 Axes>"
      ]
     },
     "metadata": {
      "needs_background": "light"
     },
     "output_type": "display_data"
    }
   ],
   "source": [
    "### calculate the scaled variance of one factor and one covariate \n",
    "\n",
    "def get_scaled_variance_level(a_factor, covariate_vector, covariate_level):\n",
    "    a_factor_subset = a_factor[covariate_vector == covariate_level] ### select the cells in a_factor that belong to the covariate level\n",
    "    scaled_variance = np.var(a_factor_subset)/np.var(a_factor) ### scaled variance of a factor and a covariate level\n",
    "    return scaled_variance\n",
    "\n",
    "### calculate the scaled variance for all the levels in a covariate \n",
    "### represents how well mixed the factor is across each level of the covariate. 1 is well mixed, 0 is not well mixed\n",
    "def get_SV_all_levels(a_factor, covariate_vector):\n",
    "    ### calculate the scaled variance for all the levels in a covariate\n",
    "    scaled_variance_all = []\n",
    "    for covariate_level in covariate_vector.unique():\n",
    "        scaled_variance = get_scaled_variance_level(a_factor, covariate_vector, covariate_level)\n",
    "        scaled_variance_all.append(scaled_variance)\n",
    "        \n",
    "    print(scaled_variance_all)\n",
    "    return scaled_variance_all\n",
    "\n",
    "\n",
    "\n",
    "### calculate an average for the relative scaled variance for all the levels in a covariate\n",
    "def get_a_factor_ASV(a_factor, covariate_vector):\n",
    "    ### calculate the relative scaled variance for all the levels in a covariate\n",
    "    scaled_variance_all = get_SV_all_levels(a_factor, covariate_vector)\n",
    "    RSV = sum(scaled_variance_all)/len(np.unique(covariate_vector)) ### sum of the scaled variance for all levels of the covariate / number of levels in the covariate\n",
    "    return RSV\n",
    "\n",
    "def get_ASV_all(pca_scores, covariate_vector):\n",
    "    ASV_all = []\n",
    "    for i in range(num_components):\n",
    "        a_factor = pca_scores[:,i]\n",
    "        ASV = get_a_factor_ASV(a_factor, covariate_vector)\n",
    "        ASV_all.append(ASV)\n",
    "    return ASV_all\n",
    "\n",
    "def get_factors_SV_all_levels(pca_scores, covariate_vector):\n",
    "    SV_all_factors = []\n",
    "    for i in range(num_components):\n",
    "        a_factor = pca_scores[:,i]\n",
    "        SV_all = get_SV_all_levels(a_factor, covariate_vector)\n",
    "        \n",
    "        SV_all_factors.append(SV_all)\n",
    "    SV_all_factors = np.asarray(SV_all_factors)\n",
    "    return SV_all_factors.T ### traspose the matrix to have the factors in columns and cov levels in rows\n",
    "\n",
    "\n",
    "\n",
    "covariate_level = b'sc_10X'\n",
    "covariate_vector = y_protocol\n",
    "\n",
    "SV_level = get_scaled_variance_level(a_factor, covariate_vector, covariate_level)\n",
    "SV_all = get_SV_all_levels(a_factor, covariate_vector)\n",
    "a_factor_ASV_protocol = get_a_factor_ASV(a_factor, y_protocol)\n",
    "\n",
    "ASV_protocol_all = get_ASV_all(pca_scores, y_protocol)\n",
    "ASV_cell_line_all = get_ASV_all(pca_scores, y_cell_line)\n",
    "\n",
    "print('SV_level: ', SV_level)\n",
    "print('SV_all: ', SV_all)\n",
    "print('RSV: ', a_factor_ASV_protocol)\n",
    "\n",
    "#### calculate the scaled variance for all the factors\n",
    "SV_all_factors_protocol = get_factors_SV_all_levels(pca_scores, covariate_vector)\n",
    "covariate_vector = y_cell_line\n",
    "SV_all_factors_cell_line = get_factors_SV_all_levels(pca_scores, covariate_vector)\n",
    "\n",
    "### concatenate the two matrices\n",
    "SV_all_factors = np.concatenate((SV_all_factors_protocol, SV_all_factors_cell_line), axis=0)\n",
    "\n",
    "print('SV_all_factors: ', SV_all_factors.shape) \n",
    "### plot the scaled variance for all the factors\n",
    "plt.figure(figsize=(10, 10))\n",
    "plt.imshow(SV_all_factors, cmap='hot', interpolation='nearest')\n",
    "\n",
    "\n",
    "## concatenate the unique values of the two covariates\n",
    "all_covariate_levels = np.concatenate((np.unique(y_protocol), np.unique(y_cell_line)), axis=0)\n",
    "print(all_covariate_levels)\n",
    "\n",
    "### add the labels of factors and covariate leveles to the plot\n",
    "plt.xticks(np.arange(num_components), np.arange(num_components))\n",
    "plt.yticks(np.arange(len(all_covariate_levels)), all_covariate_levels)\n",
    "\n",
    "\n",
    "### make the plot look nice\n",
    "#plt.colorbar()\n",
    "plt.xlabel('factors')\n",
    "plt.ylabel('covariate levels')\n",
    "plt.title('scaled variance for all the factors')\n",
    "\n",
    "### add a small horizontal legend\n",
    "plt.show()\n"
   ]
  },
  {
   "cell_type": "code",
   "execution_count": 93,
   "metadata": {},
   "outputs": [
    {
     "name": "stdout",
     "output_type": "stream",
     "text": [
      "[0.7227872731361246, 0.7713414261471386, 0.7054899419569578, 0.6235152750305545, 0.5648601885636736, 0.7348257168793698, 0.640830816527096, 0.6552026633746892, 0.7983912010977113, 0.5657120517514933, 0.76157716972259, 0.7784800887992749, 0.6423945831855387, 0.750174350913116, 0.7882422703364484, 0.6795500486335898, 0.5839520800652227, 0.6056703223790092, 0.779135763589272, 0.6193073337734656, 0.6750794906596431, 0.8103271780322585, 0.552703672471576, 0.6298657937544299, 0.599637981903674, 0.5385661829176789, 0.564961611340878, 0.6868285096291437, 0.5878058004082084, 0.6037933288183084]\n"
     ]
    },
    {
     "data": {
      "image/png": "[encoded data removed]",
      "text/plain": [
       "<Figure size 432x288 with 1 Axes>"
      ]
     },
     "metadata": {
      "needs_background": "light"
     },
     "output_type": "display_data"
    }
   ],
   "source": [
    "import sklearn.cluster as cluster\n",
    "from sklearn import metrics\n",
    "\n",
    "def get_silhouette_score(a_factor, kmeans_labels):\n",
    "    a_factor_silhouette_score = metrics.silhouette_score(a_factor.reshape(-1, 1), kmeans_labels, metric='euclidean')\n",
    "    return a_factor_silhouette_score\n",
    "\n",
    "### apply kmeans to all the factors independently\n",
    "def get_kmeans_silhouette_scores(pca_scores):\n",
    "    silhouette_score_all = []\n",
    "    for i in range(num_components):\n",
    "        kmeans = cluster.KMeans(n_clusters=2, random_state=0).fit(pca_scores[:,i].reshape(-1, 1))\n",
    "        a_factor_silhouette_score = get_silhouette_score(pca_scores[:,i], kmeans.labels_)\n",
    "        silhouette_score_all.append(a_factor_silhouette_score)\n",
    "        #kmeans_all.append(kmeans.labels_)\n",
    "    return silhouette_score_all\n",
    "\n",
    "\n",
    "silhouette_score_all = get_kmeans_silhouette_scores(pca_scores)\n",
    "print(silhouette_score_all)\n",
    "### plot the silhouette score for all the factors\n",
    "plt.bar(range(num_components), silhouette_score_all)\n",
    "plt.xlabel('factor')\n",
    "plt.ylabel('silhouette score')\n",
    "plt.show()"
   ]
  },
  {
   "cell_type": "code",
   "execution_count": 94,
   "metadata": {},
   "outputs": [
    {
     "name": "stdout",
     "output_type": "stream",
     "text": [
      "[153.23131571235257, 124.87974354183928, 132.94447421945495, 116.553744074506, 95.51447146947329, 233.45514751577215, 77.23582466260991, 77.00337552850286, 66.35868283732374, 54.14330987022462, 62.20857391346369, 51.39672604535519, 162.41319430428456, 193.9438069526594, 40.8888541867269, 143.83394167327899, 52.229004658238324, 50.804528176801654, 97.90331367255243, 61.073116026672565, 170.10123496738305, 34.31682070962825, 44.118220204238376, 31.322102793538136, 25.324917991029064, 22.39222666343876, 83.42919007503652, 55.16095367360298, 37.15842108879141, 19.601641184380085]\n"
     ]
    },
    {
     "data": {
      "image/png": "[encoded data removed]",
      "text/plain": [
       "<Figure size 432x288 with 1 Axes>"
      ]
     },
     "metadata": {
      "needs_background": "light"
     },
     "output_type": "display_data"
    }
   ],
   "source": [
    "def get_factor_variance_all(pca_scores):\n",
    "    factor_variance_all = []\n",
    "    for i in range(num_components):\n",
    "        a_factor = pca_scores[:,i]\n",
    "        factor_variance = np.var(a_factor)\n",
    "        factor_variance_all.append(factor_variance)\n",
    "    return factor_variance_all\n",
    "\n",
    "factor_variance_all = get_factor_variance_all(pca_scores)\n",
    "print(factor_variance_all)\n",
    "### plot the variance for all the factors\n",
    "plt.bar(range(num_components), factor_variance_all)\n",
    "plt.xlabel('factor')\n",
    "plt.ylabel('variance')\n",
    "plt.show()\n"
   ]
  },
  {
   "cell_type": "code",
   "execution_count": 169,
   "metadata": {},
   "outputs": [
    {
     "name": "stdout",
     "output_type": "stream",
     "text": [
      "[0.6449179656579141, 0.07382513317013464, 0.030224635996968792]\n",
      "[1.2543790062745215, 0.1853233696690762, 0.10895287218688691]\n",
      "[0.2557716227497128, 2.6524452759483075, 0.8006961682189688]\n",
      "[1.113240145177832, 0.13915675537051264, 0.19059623200459633]\n",
      "[1.22637223204511, 0.45076675290519486, 0.6264983142726079]\n",
      "[1.216640964852962, 0.15948346896116997, 0.11742563080615696]\n",
      "[0.9689331545524552, 0.12567951034581137, 0.09705611016725761]\n",
      "[1.0411101016835929, 1.0361727236329117, 0.6667558601999903]\n",
      "[0.11653872411341255, 0.4818686670015282, 2.635145754018992]\n",
      "[1.0522132872795353, 1.0155174261892352, 0.7501216337348291]\n",
      "[1.1215714080127082, 0.4939093534446231, 0.5541462620559329]\n",
      "[1.3406489247719993, 0.26868222888309945, 0.12600900259679293]\n",
      "[0.4142161058536283, 2.59914374976348, 0.539282287620593]\n",
      "[1.227404006931651, 0.09654766655540908, 0.20211352521014686]\n",
      "[1.2959181982537509, 0.4037167003029987, 0.3177777496950281]\n",
      "[0.4815464728084564, 2.125260179746185, 0.6863248133002291]\n",
      "[1.148442141562774, 0.41566759116117025, 0.3074717972732599]\n",
      "[1.0951961419148288, 0.381999291648078, 0.2855139486884592]\n",
      "[0.06503882629223726, 2.1513626936957992, 0.10016529710610679]\n",
      "[1.353183064688126, 0.3231683024467683, 0.23614589900575833]\n",
      "[1.1034558244972725, 0.20549690853161115, 0.12930608002772978]\n",
      "[0.14440891629008756, 3.1605381590938038, 0.05842409920274114]\n",
      "[1.0068087342888268, 0.5490760356199028, 0.5483204381443006]\n",
      "[1.2311489924984345, 0.5912796135704501, 0.5347656454548979]\n",
      "[1.2539204717500874, 0.5920371968448438, 0.31359698515318996]\n",
      "[1.1370123153233984, 0.7262064714576814, 0.5681073081963598]\n",
      "[1.073311679216348, 0.7990802488180005, 0.8242004449608662]\n",
      "[1.218523083922293, 0.2339702966490659, 0.13348966647071717]\n",
      "[1.0174854645259412, 0.5508139517879644, 0.3378044660693437]\n",
      "[1.2879099650145713, 0.5643169240539989, 0.22131448073197402]\n",
      "[1.2622225849214572, 0.9303353772521652, 0.8211381413660696]\n",
      "[0.08128232067998009, 0.07611747977696703, 1.0038628861310046]\n",
      "[0.7304646849909323, 1.3963139953502997, 0.43223256705635893]\n",
      "[1.475435097292891, 0.45589801632683863, 0.22733183131199025]\n",
      "[1.041120772763006, 1.1249776775324338, 0.809390265316282]\n",
      "[0.23576643276698808, 1.326180749144144, 0.0901161563707948]\n",
      "[0.9958886460594527, 0.822972028053024, 0.9645993446786304]\n",
      "[0.8257251811648212, 0.729429467919621, 1.4348904308434407]\n",
      "[1.2827027096053114, 1.143251558394328, 0.4820284529425409]\n",
      "[0.7108565775187036, 0.8725595995837064, 1.2997204415667858]\n",
      "[2.118693944997138, 0.2933903414013488, 0.18573595093506884]\n",
      "[0.157386887950885, 0.1334019443875427, 1.8804614600492722]\n",
      "[0.41902662089508935, 0.4197374713617924, 1.2298100172185213]\n",
      "[0.1616070964063467, 1.4838741617421425, 0.10284323240775141]\n",
      "[0.2496678094498104, 2.0534692561468453, 0.12261137789933384]\n",
      "[1.1691621362893767, 0.26097330363961874, 0.1881329155820951]\n",
      "[0.32580536345590616, 1.586600143411232, 0.47015672763984173]\n",
      "[0.6852607279962272, 0.6645761371205401, 1.2013522594614863]\n",
      "[1.0164254294274588, 1.2924896886659576, 0.6239165907713143]\n",
      "[1.0663882858285076, 0.4124286356263367, 0.21700925555977088]\n",
      "[0.1807026699643295, 0.2949139245834821, 0.9624701969143076]\n",
      "[1.3114969344327598, 1.0099174159239854, 0.6824851925004743]\n",
      "[0.8489553851729881, 0.744951283647055, 1.1951221657200186]\n",
      "[1.7814420532803668, 0.4514446719403769, 0.21407394394226992]\n",
      "[0.9792988995420154, 1.1009921688023625, 0.6539850066510693]\n",
      "[1.3883709664434105, 1.0799753157697618, 0.5317534777465047]\n",
      "[1.229385964062953, 1.0155322220293475, 0.4439827241236161]\n",
      "[0.1398084780986787, 0.18905060047824085, 1.383535114085246]\n",
      "[0.9660800110445169, 0.8948420317360423, 0.918173110196744]\n",
      "[0.6624107068051969, 0.8743959318499313, 1.4303646320313992]\n",
      "(30, 6)\n",
      "(6, 6)\n"
     ]
    },
    {
     "data": {
      "image/png": "[encoded data removed]",
      "text/plain": [
       "<Figure size 360x360 with 2 Axes>"
      ]
     },
     "metadata": {
      "needs_background": "light"
     },
     "output_type": "display_data"
    }
   ],
   "source": [
    "#### label free factor metrics\n",
    "factor_entropy_all = get_factor_entropy_all(pca_scores)\n",
    "silhouette_score_all = get_kmeans_silhouette_scores(pca_scores)\n",
    "factor_variance_all = get_factor_variance_all(pca_scores)\n",
    "\n",
    "\n",
    "### label dependent factor metrics\n",
    "ASV_protocol_all = get_ASV_all(pca_scores, y_protocol)\n",
    "ASV_cell_line_all = get_ASV_all(pca_scores, y_cell_line)\n",
    "factor_specificity_all = get_all_factors_specificity(mean_importance_df)\n",
    "\n",
    "\n",
    "### concatenate all matrices\n",
    "all_metrics = np.concatenate((np.asarray(factor_entropy_all).reshape(-1, 1), \n",
    "                              np.asarray(silhouette_score_all).reshape(-1, 1), \n",
    "                              np.asarray(factor_variance_all).reshape(-1, 1), \n",
    "                              np.asarray(ASV_protocol_all).reshape(-1, 1), \n",
    "                              np.asarray(ASV_cell_line_all).reshape(-1, 1),\n",
    "                              np.asarray(factor_specificity_all).reshape(-1, 1)), axis=1)\n",
    "\n",
    "factor_metrics = ['factor_entropy', 'silhouette_score', 'factor_variance', 'ASV_protocol', 'ASV_cell_line', 'factor_specificity']\n",
    "print(all_metrics.shape)\n",
    "### calculate the correlation matrix\n",
    "corr = np.corrcoef(all_metrics.T)\n",
    "print(corr.shape)\n",
    "### plot the correlation matrix with hierarchical clustering\n",
    "plt.figure(figsize=(5, 5))\n",
    "plt.imshow(corr, cmap='hot', interpolation='nearest')\n",
    "plt.xticks(np.arange(len(factor_metrics)), factor_metrics, rotation=-70)\n",
    "plt.yticks(np.arange(len(factor_metrics)), factor_metrics)\n",
    "plt.colorbar()\n",
    "plt.xlabel('factor metrics')\n",
    "plt.ylabel('factor metrics')\n",
    "plt.title('correlation matrix for factor metrics')\n",
    "plt.show()\n",
    "\n"
   ]
  },
  {
   "cell_type": "code",
   "execution_count": null,
   "metadata": {},
   "outputs": [],
   "source": []
  }
 ],
 "metadata": {
  "kernelspec": {
   "display_name": "base",
   "language": "python",
   "name": "python3"
  },
  "language_info": {
   "codemirror_mode": {
    "name": "ipython",
    "version": 3
   },
   "file_extension": ".py",
   "mimetype": "text/x-python",
   "name": "python",
   "nbconvert_exporter": "python",
   "pygments_lexer": "ipython3",
   "version": "3.7.6"
  },
  "orig_nbformat": 4
 },
 "nbformat": 4,
 "nbformat_minor": 2
}
