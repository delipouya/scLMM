{
 "cells": [
  {
   "cell_type": "code",
   "execution_count": 1,
   "metadata": {},
   "outputs": [
    {
     "name": "stdout",
     "output_type": "stream",
     "text": [
      "1\n"
     ]
    }
   ],
   "source": [
    "import numpy as np\n",
    "import import_ipynb\n",
    "import numpy.linalg as LA\n",
    "import LMM as lmm\n",
    "import random\n",
    "\n",
    "import time\n",
    "import os\n",
    "import pandas as pd\n",
    "from scipy.io import mmread\n",
    "import scipy.sparse as sp\n",
    "import matplotlib.pyplot as plt\n",
    "from IPython.display import Image\n",
    "import scanpy as sc\n",
    "import matplotlib.pyplot as plt\n",
    "import statsmodels.api as sm\n",
    "\n",
    "np.random.seed(10)"
   ]
  },
  {
   "cell_type": "code",
   "execution_count": null,
   "metadata": {},
   "outputs": [],
   "source": [
    "#### import the immune subpopulation of the rat samples\n",
    "data = sc.read('/home/delaram/scLMM/input_data_designMat/inputdata_rat_set1_countData.h5ad') ## attributes removed\n",
    "data.var_names_make_unique()\n",
    "# a.obs['orig.ident'].head()\n",
    "### renaming the meta info column names: https://github.com/theislab/scvelo/issues/255\n",
    "data.__dict__['_raw'].__dict__['_var'] = data.__dict__['_raw'].__dict__['_var'].rename(columns={'_index': 'features'})"
   ]
  },
  {
   "cell_type": "code",
   "execution_count": null,
   "metadata": {},
   "outputs": [],
   "source": [
    "print(data.shape)\n",
    "print(type(data.obs))\n",
    "print(data.obs.head())\n",
    "print(type(data.X))\n",
    "data_numpy = data.X.toarray()\n",
    "print(type(data_numpy))\n",
    "print(data_numpy.shape)"
   ]
  },
  {
   "cell_type": "code",
   "execution_count": null,
   "metadata": {},
   "outputs": [],
   "source": [
    "cell_sums = np.sum(data_numpy,axis=1) # row sums - library size\n",
    "cell_sums.shape\n",
    "gene_sums = np.sum(data_numpy,axis=0) # col sums - sum reads in a gene\n",
    "gene_sums.shape\n",
    "gene_vars = np.var(data_numpy, axis=0)\n",
    "print('ratio of genes with zero vriance: ', np.sum(gene_vars == 0)/len(gene_vars))\n",
    "print('ratio of genes with zero reads: ', np.sum(gene_sums == 0)/len(gene_sums))\n",
    "print('ratio of cells with zero lib size: ', np.sum(cell_sums == 0)/len(cell_sums))\n",
    "data_numpy = data_numpy[:,gene_sums != 0]\n",
    "data_numpy.shape"
   ]
  },
  {
   "cell_type": "code",
   "execution_count": null,
   "metadata": {},
   "outputs": [],
   "source": [
    "num_genes = 100\n",
    "print(type(data_numpy))\n",
    "data_sub = data_numpy[:,0:num_genes] ### rows are cells - columns are genes\n",
    "print(data_sub.shape)\n",
    "print(data_numpy.shape)\n",
    "\n",
    "strain = data.obs.strain\n",
    "print(strain.shape)\n"
   ]
  },
  {
   "cell_type": "code",
   "execution_count": null,
   "metadata": {},
   "outputs": [],
   "source": [
    "print(strain.shape[0])\n",
    "y_strain = np.zeros((strain.shape[0]))\n",
    "print(y_strain)\n",
    "for i in range(len(data.obs.strain)):\n",
    "    if data.obs.strain[i] != 'DA':\n",
    "        y_strain[i] = 1"
   ]
  },
  {
   "cell_type": "code",
   "execution_count": null,
   "metadata": {},
   "outputs": [],
   "source": [
    "import time\n",
    "start = time.time()\n",
    "\n",
    "# Instantiate a gamma family model with the default link function.\n",
    "model = sm.GLM(y_strain,data_sub, family=sm.families.Poisson())\n",
    "results = model.fit()\n",
    "\n",
    "end = time.time()\n",
    "print(end - start)"
   ]
  }
 ],
 "metadata": {
  "kernelspec": {
   "display_name": "Python 3",
   "language": "python",
   "name": "python3"
  },
  "language_info": {
   "codemirror_mode": {
    "name": "ipython",
    "version": 3
   },
   "file_extension": ".py",
   "mimetype": "text/x-python",
   "name": "python",
   "nbconvert_exporter": "python",
   "pygments_lexer": "ipython3",
   "version": "3.7.6"
  }
 },
 "nbformat": 4,
 "nbformat_minor": 4
}
