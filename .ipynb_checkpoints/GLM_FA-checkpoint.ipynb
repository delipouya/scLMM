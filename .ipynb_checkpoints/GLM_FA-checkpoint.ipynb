{
 "cells": [
  {
   "cell_type": "code",
   "execution_count": 1,
   "metadata": {},
   "outputs": [
    {
     "name": "stdout",
     "output_type": "stream",
     "text": [
      "importing Jupyter notebook from LMM.ipynb\n",
      "LMM was imported successfully.\n"
     ]
    }
   ],
   "source": [
    "import numpy as np\n",
    "import import_ipynb\n",
    "import numpy.linalg as LA\n",
    "import LMM as lmm\n",
    "import random\n",
    "\n",
    "import time\n",
    "import os\n",
    "import pandas as pd\n",
    "from scipy.io import mmread\n",
    "import scipy.sparse as sp\n",
    "import matplotlib.pyplot as plt\n",
    "from IPython.display import Image\n",
    "import scanpy as sc\n",
    "import matplotlib.pyplot as plt\n",
    "import statsmodels.api as sm\n",
    "\n",
    "np.random.seed(10)"
   ]
  },
  {
   "cell_type": "code",
   "execution_count": 2,
   "metadata": {},
   "outputs": [],
   "source": [
    "#### import the immune subpopulation of the rat samples\n",
    "data = sc.read('/home/delaram/scLMM/input_data_designMat/inputdata_rat_set1_countData.h5ad') ## attributes removed\n",
    "data.var_names_make_unique()\n",
    "# a.obs['orig.ident'].head()\n",
    "### renaming the meta info column names: https://github.com/theislab/scvelo/issues/255\n",
    "data.__dict__['_raw'].__dict__['_var'] = data.__dict__['_raw'].__dict__['_var'].rename(columns={'_index': 'features'})"
   ]
  },
  {
   "cell_type": "code",
   "execution_count": 3,
   "metadata": {},
   "outputs": [
    {
     "name": "stdout",
     "output_type": "stream",
     "text": [
      "(23036, 32883)\n",
      "<class 'pandas.core.frame.DataFrame'>\n",
      "                          orig.ident  nCount_RNA  nFeature_RNA sample strain\n",
      "DA_01_AAACCTGAGACTTGAA-1           0      3007.0          1244  DA_01     DA\n",
      "DA_01_AAACCTGAGCCATCGC-1           0      2176.0           919  DA_01     DA\n",
      "DA_01_AAACCTGAGGGAAACA-1           0      1978.0           829  DA_01     DA\n",
      "DA_01_AAACCTGCACCCATTC-1           0      2702.0          1104  DA_01     DA\n",
      "DA_01_AAACCTGCATGCATGT-1           0      2664.0          1061  DA_01     DA\n",
      "<class 'scipy.sparse.csr.csr_matrix'>\n",
      "<class 'numpy.ndarray'>\n",
      "(23036, 32883)\n"
     ]
    }
   ],
   "source": [
    "print(data.shape)\n",
    "print(type(data.obs))\n",
    "print(data.obs.head())\n",
    "print(type(data.X))\n",
    "data_numpy = data.X.toarray()\n",
    "print(type(data_numpy))\n",
    "print(data_numpy.shape)"
   ]
  },
  {
   "cell_type": "code",
   "execution_count": 4,
   "metadata": {},
   "outputs": [
    {
     "name": "stdout",
     "output_type": "stream",
     "text": [
      "ratio of genes with zero vriance:  0.4831371833470182\n",
      "ratio of genes with zero reads:  0.4831371833470182\n",
      "ratio of cells with zero lib size:  0.0\n"
     ]
    },
    {
     "data": {
      "text/plain": [
       "(23036, 16996)"
      ]
     },
     "execution_count": 4,
     "metadata": {},
     "output_type": "execute_result"
    }
   ],
   "source": [
    "cell_sums = np.sum(data_numpy,axis=1) # row sums - library size\n",
    "cell_sums.shape\n",
    "gene_sums = np.sum(data_numpy,axis=0) # col sums - sum reads in a gene\n",
    "gene_sums.shape\n",
    "gene_vars = np.var(data_numpy, axis=0)\n",
    "print('ratio of genes with zero vriance: ', np.sum(gene_vars == 0)/len(gene_vars))\n",
    "print('ratio of genes with zero reads: ', np.sum(gene_sums == 0)/len(gene_sums))\n",
    "print('ratio of cells with zero lib size: ', np.sum(cell_sums == 0)/len(cell_sums))\n",
    "data_numpy = data_numpy[:,gene_sums != 0]\n",
    "data_numpy.shape"
   ]
  },
  {
   "cell_type": "code",
   "execution_count": 11,
   "metadata": {},
   "outputs": [
    {
     "name": "stdout",
     "output_type": "stream",
     "text": [
      "<class 'numpy.ndarray'>\n",
      "(23036, 10000)\n",
      "(23036, 16996)\n",
      "(23036,)\n"
     ]
    }
   ],
   "source": [
    "num_genes = 1000\n",
    "print(type(data_numpy))\n",
    "data_sub = data_numpy[:,0:num_genes] ### rows are cells - columns are genes\n",
    "print(data_sub.shape)\n",
    "print(data_numpy.shape)\n",
    "\n",
    "strain = data.obs.strain\n",
    "print(strain.shape)\n"
   ]
  },
  {
   "cell_type": "code",
   "execution_count": 12,
   "metadata": {},
   "outputs": [
    {
     "name": "stdout",
     "output_type": "stream",
     "text": [
      "23036\n",
      "[0. 0. 0. ... 0. 0. 0.]\n"
     ]
    }
   ],
   "source": [
    "print(strain.shape[0])\n",
    "y_strain = np.zeros((strain.shape[0]))\n",
    "print(y_strain)\n",
    "for i in range(len(data.obs.strain)):\n",
    "    if data.obs.strain[i] != 'DA':\n",
    "        y_strain[i] = 1"
   ]
  },
  {
   "cell_type": "code",
   "execution_count": 13,
   "metadata": {},
   "outputs": [
    {
     "name": "stdout",
     "output_type": "stream",
     "text": [
      "(23036, 10000)\n",
      "(23036,)\n",
      "<class 'numpy.ndarray'>\n",
      "<class 'numpy.ndarray'>\n"
     ]
    }
   ],
   "source": [
    "print(data_sub.shape)\n",
    "print(y_strain.shape)\n",
    "print(type(data_sub))\n",
    "print(type(y_strain))"
   ]
  },
  {
   "cell_type": "code",
   "execution_count": null,
   "metadata": {},
   "outputs": [],
   "source": [
    "import time\n",
    "start = time.time()\n",
    "\n",
    "# Instantiate a gamma family model with the default link function.\n",
    "model = sm.GLM(y_strain,data_sub, family=sm.families.Poisson())\n",
    "results = model.fit()\n",
    "\n",
    "end = time.time()\n",
    "print(end - start)"
   ]
  },
  {
   "cell_type": "code",
   "execution_count": 1,
   "metadata": {},
   "outputs": [
    {
     "ename": "NameError",
     "evalue": "name 'results' is not defined",
     "output_type": "error",
     "traceback": [
      "\u001b[0;31m---------------------------------------------------------------------------\u001b[0m",
      "\u001b[0;31mNameError\u001b[0m                                 Traceback (most recent call last)",
      "\u001b[0;32m<ipython-input-1-fee765f21fe6>\u001b[0m in \u001b[0;36m<module>\u001b[0;34m\u001b[0m\n\u001b[0;32m----> 1\u001b[0;31m \u001b[0mprint\u001b[0m\u001b[0;34m(\u001b[0m\u001b[0;34m'number of significant genes: '\u001b[0m\u001b[0;34m,\u001b[0m \u001b[0mlen\u001b[0m\u001b[0;34m(\u001b[0m\u001b[0mresults\u001b[0m\u001b[0;34m.\u001b[0m\u001b[0mpvalues\u001b[0m\u001b[0;34m[\u001b[0m\u001b[0mresults\u001b[0m\u001b[0;34m.\u001b[0m\u001b[0mpvalues\u001b[0m\u001b[0;34m<\u001b[0m\u001b[0mthreshold\u001b[0m\u001b[0;34m]\u001b[0m\u001b[0;34m)\u001b[0m\u001b[0;34m)\u001b[0m\u001b[0;34m\u001b[0m\u001b[0;34m\u001b[0m\u001b[0m\n\u001b[0m\u001b[1;32m      2\u001b[0m \u001b[0mprint\u001b[0m\u001b[0;34m(\u001b[0m\u001b[0;34m(\u001b[0m\u001b[0mend\u001b[0m \u001b[0;34m-\u001b[0m \u001b[0mstart\u001b[0m\u001b[0;34m)\u001b[0m\u001b[0;34m*\u001b[0m\u001b[0;34m(\u001b[0m\u001b[0mdata_numpy\u001b[0m\u001b[0;34m.\u001b[0m\u001b[0mshape\u001b[0m\u001b[0;34m[\u001b[0m\u001b[0;36m1\u001b[0m\u001b[0;34m]\u001b[0m\u001b[0;34m/\u001b[0m\u001b[0mdata_sub\u001b[0m\u001b[0;34m.\u001b[0m\u001b[0mshape\u001b[0m\u001b[0;34m[\u001b[0m\u001b[0;36m1\u001b[0m\u001b[0;34m]\u001b[0m\u001b[0;34m)\u001b[0m\u001b[0;34m)\u001b[0m \u001b[0;31m## time estimate for all genes included\u001b[0m\u001b[0;34m\u001b[0m\u001b[0;34m\u001b[0m\u001b[0m\n",
      "\u001b[0;31mNameError\u001b[0m: name 'results' is not defined"
     ]
    }
   ],
   "source": [
    "print('number of significant genes: ', len(results.pvalues[results.pvalues<threshold]))\n",
    "print((end - start)*(data_numpy.shape[1]/data_sub.shape[1])) ## time estimate for all genes included"
   ]
  },
  {
   "cell_type": "code",
   "execution_count": 42,
   "metadata": {},
   "outputs": [
    {
     "name": "stdout",
     "output_type": "stream",
     "text": [
      "(23036, 16996)\n"
     ]
    },
    {
     "data": {
      "text/plain": [
       "23036"
      ]
     },
     "execution_count": 42,
     "metadata": {},
     "output_type": "execute_result"
    }
   ],
   "source": [
    "#print(results.summary())\n",
    "print(\"Coefficeients\")\n",
    "print(results.params[1:20])\n",
    "print()\n",
    "print(\"p-Values\")\n",
    "print(results.pvalues[1:20])\n",
    "threshold = 0.05\n",
    "print(data_numpy.shape) ## \n",
    "len(results.fittedvalues) ## predicted fitted values for each sample"
   ]
  },
  {
   "cell_type": "code",
   "execution_count": 105,
   "metadata": {},
   "outputs": [
    {
     "name": "stdout",
     "output_type": "stream",
     "text": [
      "------   (32,)\n",
      "------   (32, 7)\n",
      "[[7.12000e+02 2.10000e+01 1.05000e+02 8.24000e+01 1.35660e+04 1.23000e+01\n",
      "  1.49520e+04]\n",
      " [6.43000e+02 2.65000e+01 9.70000e+01 8.02000e+01 1.35660e+04 1.53000e+01\n",
      "  1.70395e+04]\n",
      " [6.79000e+02 2.83000e+01 1.13000e+02 8.63000e+01 9.61100e+03 1.39000e+01\n",
      "  1.92157e+04]\n",
      " [8.01000e+02 2.71000e+01 1.09000e+02 8.04000e+01 9.48300e+03 1.36000e+01\n",
      "  2.17071e+04]\n",
      " [7.53000e+02 2.20000e+01 1.15000e+02 6.47000e+01 9.26500e+03 1.46000e+01\n",
      "  1.65660e+04]]\n",
      "(32, 7)\n",
      "<class 'statsmodels.datasets.utils.Dataset'>\n",
      "[60.3 52.3 53.4 57.  68.7 48.8 65.5 70.5 59.1 62.7 51.6 62.  68.4 69.2\n",
      " 64.7 75.  62.1 67.2 67.7 52.7 65.7 72.2 47.4 51.3 63.6 50.7 51.6 56.2\n",
      " 67.6 58.9 74.7 67.3]\n",
      "32\n",
      "                 Generalized Linear Model Regression Results                  \n",
      "==============================================================================\n",
      "Dep. Variable:                      y   No. Observations:                   32\n",
      "Model:                            GLM   Df Residuals:                       25\n",
      "Model Family:                   Gamma   Df Model:                            6\n",
      "Link Function:          inverse_power   Scale:                       0.0038075\n",
      "Method:                          IRLS   Log-Likelihood:                -84.408\n",
      "Date:                Wed, 07 Dec 2022   Deviance:                     0.096054\n",
      "Time:                        20:07:17   Pearson chi2:                   0.0952\n",
      "No. Iterations:                     6                                         \n",
      "Covariance Type:            nonrobust                                         \n",
      "==============================================================================\n",
      "                 coef    std err          z      P>|z|      [0.025      0.975]\n",
      "------------------------------------------------------------------------------\n",
      "x1          2.813e-05   8.58e-06      3.280      0.001    1.13e-05    4.49e-05\n",
      "x2             0.0013      0.000      4.908      0.000       0.001       0.002\n",
      "x3         -7.125e-05   2.78e-05     -2.559      0.010      -0.000   -1.67e-05\n",
      "x4          9.258e-05   4.01e-05      2.310      0.021     1.4e-05       0.000\n",
      "x5         -1.389e-07   1.27e-07     -1.095      0.273   -3.88e-07     1.1e-07\n",
      "x6            -0.0005      0.000     -2.118      0.034      -0.001    -3.9e-05\n",
      "x7         -1.479e-06   4.36e-07     -3.396      0.001   -2.33e-06   -6.26e-07\n",
      "==============================================================================\n",
      "Coefficeients\n",
      "[ 2.81340062e-05  1.31965360e-03 -7.12529086e-05  9.25810097e-05\n",
      " -1.38928838e-07 -5.22723030e-04 -1.47916539e-06]\n",
      "\n",
      "p-Values\n",
      "[1.03918419e-03 9.19328393e-07 1.04894952e-02 2.09031139e-02\n",
      " 2.73387791e-01 3.41791963e-02 6.82675173e-04]\n",
      "\n",
      "Dependent variables\n",
      "y\n",
      "[57.27188241 54.08960229 51.64474033 57.33941247 68.53818425 56.68856065\n",
      " 66.66957969 65.40191487 57.63838532 62.4902866 ]\n",
      "[ 0.05287267 -0.03308588  0.03398719 -0.00591936  0.00236096 -0.13915613\n",
      " -0.01754293  0.07795009  0.02535836  0.00335594 -0.0463983   0.0240969\n",
      "  0.0846411   0.10667974  0.07469702 -0.02021478  0.09569519 -0.07963694\n",
      "  0.03295335 -0.00960576  0.03529752  0.0258762  -0.01097059 -0.06774871\n",
      " -0.04522782 -0.02813303 -0.088674   -0.02585277  0.01047909 -0.01654064\n",
      " -0.02097629 -0.03061739]\n",
      "[ 3.02811759 -1.78960229  1.75525967 -0.33941247  0.16181575 -7.88856065\n",
      " -1.16957969  5.09808513  1.46161468  0.2097134  -2.51064163  1.4588541\n",
      "  5.33766552  6.67061841  4.49698575 -1.54738872  5.42365368 -5.81466469\n",
      "  2.15976986 -0.51113348  2.23998127  1.8211375  -0.52577379 -3.72808135\n",
      " -3.01274939 -1.46763384 -5.02079212 -1.49148452  0.70104046 -0.99062943\n",
      " -1.6005018  -2.12563169]\n",
      "[-9.23187297e-04  6.11686576e-04 -6.58095888e-04  1.03233657e-04\n",
      " -3.44473320e-05  2.45474796e-03  2.63132434e-04 -1.19186250e-03\n",
      " -4.39956041e-04 -5.37033213e-05  8.57470838e-04 -3.98025216e-04\n",
      " -1.34218156e-03 -1.70607387e-03 -1.24075216e-03  2.64081918e-04\n",
      " -1.68845022e-03  1.09069792e-03 -5.02795697e-04  1.80521655e-04\n",
      " -5.56216664e-04 -3.67670048e-04  2.28907839e-04  1.23116607e-03\n",
      "  6.78966410e-04  5.39281396e-04  1.56610314e-03  4.48121025e-04\n",
      " -1.56640607e-04  2.76180793e-04  2.74916862e-04  4.41009898e-04]\n",
      "[ 0.05196856 -0.03345798  0.03360961 -0.00593108  0.0023591  -0.14619163\n",
      " -0.01764658  0.07601207  0.02514712  0.00335219 -0.04713597  0.02390603\n",
      "  0.08236445  0.10310609  0.0729142  -0.02035262  0.09280249 -0.08185495\n",
      "  0.03259817 -0.00963669  0.03489056  0.02565632 -0.01101096 -0.06934214\n",
      " -0.04592825 -0.02840127 -0.09143957 -0.02607898  0.01044271 -0.01663273\n",
      " -0.02112478 -0.03093557]\n"
     ]
    },
    {
     "name": "stderr",
     "output_type": "stream",
     "text": [
      "/home/delaram/anaconda3/lib/python3.7/site-packages/statsmodels/genmod/generalized_linear_model.py:278: DomainWarning: The inverse_power link function does not respect the domain of the Gamma family.\n",
      "  DomainWarning)\n"
     ]
    }
   ],
   "source": [
    "#### Sample code\n",
    "data2 = sm.datasets.scotland.load()\n",
    "data.exog = sm.add_constant(data2.exog)\n",
    "\n",
    "\n",
    "\n",
    "print(data2.exog[:5, :])\n",
    "print(data2.exog.shape) ## rows are observations/samples , columns are features \n",
    "print(type(data2))\n",
    "print(data2.endog)\n",
    "print(len(data2.endog))\n",
    "# Instantiate a gamma family model with the default link function.\n",
    "gamma_model = sm.GLM(data2.endog, data2.exog, family=sm.families.Gamma())\n",
    "gamma_results = gamma_model.fit()\n",
    "print(gamma_results.summary())\n",
    "result= gamma_results\n",
    "print(\"Coefficeients\")\n",
    "print(result.params)\n",
    "print()\n",
    "print(\"p-Values\")\n",
    "print(result.pvalues)\n",
    "print()\n",
    "print(\"Dependent variables\")\n",
    "print(result.model.endog_names)\n",
    "predictions = result.predict()\n",
    "print(predictions[0:10])\n",
    "# https://www.statsmodels.org/stable/generated/statsmodels.genmod.generalized_linear_model.GLMResults.html#statsmodels.genmod.generalized_linear_model.GLMResults\n",
    "\n",
    "resid_deviance = result.resid_deviance\n",
    "resid_pearson = result.resid_pearson\n",
    "resid_response = result.resid_response ### y - fitted value\n",
    "resid_working = result.resid_working\n",
    "\n",
    "print(resid_pearson)\n",
    "print(resid_response)\n",
    "print(resid_working)\n",
    "print(resid_deviance)"
   ]
  },
  {
   "cell_type": "code",
   "execution_count": 22,
   "metadata": {},
   "outputs": [
    {
     "name": "stdout",
     "output_type": "stream",
     "text": [
      "                 Generalized Linear Model Regression Results                  \n",
      "==============================================================================\n",
      "Dep. Variable:                      y   No. Observations:                   32\n",
      "Model:                            GLM   Df Residuals:                       25\n",
      "Model Family:                   Gamma   Df Model:                            6\n",
      "Link Function:          inverse_power   Scale:                       0.0038075\n",
      "Method:                          IRLS   Log-Likelihood:                -84.408\n",
      "Date:                Wed, 07 Dec 2022   Deviance:                     0.096054\n",
      "Time:                        19:09:26   Pearson chi2:                   0.0952\n",
      "No. Iterations:                     6                                         \n",
      "Covariance Type:            nonrobust                                         \n",
      "==============================================================================\n",
      "                 coef    std err          z      P>|z|      [0.025      0.975]\n",
      "------------------------------------------------------------------------------\n",
      "x1          2.813e-05   8.58e-06      3.280      0.001    1.13e-05    4.49e-05\n",
      "x2             0.0013      0.000      4.908      0.000       0.001       0.002\n",
      "x3         -7.125e-05   2.78e-05     -2.559      0.010      -0.000   -1.67e-05\n",
      "x4          9.258e-05   4.01e-05      2.310      0.021     1.4e-05       0.000\n",
      "x5         -1.389e-07   1.27e-07     -1.095      0.273   -3.88e-07     1.1e-07\n",
      "x6            -0.0005      0.000     -2.118      0.034      -0.001    -3.9e-05\n",
      "x7         -1.479e-06   4.36e-07     -3.396      0.001   -2.33e-06   -6.26e-07\n",
      "==============================================================================\n",
      "Coefficeients\n",
      "[ 2.81340062e-05  1.31965360e-03 -7.12529086e-05  9.25810097e-05\n",
      " -1.38928838e-07 -5.22723030e-04 -1.47916539e-06]\n",
      "\n",
      "p-Values\n",
      "[1.03918419e-03 9.19328393e-07 1.04894952e-02 2.09031139e-02\n",
      " 2.73387791e-01 3.41791963e-02 6.82675173e-04]\n",
      "\n",
      "Dependent variables\n",
      "y\n",
      "[57.27188241 54.08960229 51.64474033 57.33941247 68.53818425 56.68856065\n",
      " 66.66957969 65.40191487 57.63838532 62.4902866 ]\n"
     ]
    },
    {
     "name": "stderr",
     "output_type": "stream",
     "text": [
      "/home/delaram/anaconda3/lib/python3.7/site-packages/statsmodels/genmod/generalized_linear_model.py:278: DomainWarning: The inverse_power link function does not respect the domain of the Gamma family.\n",
      "  DomainWarning)\n"
     ]
    }
   ],
   "source": []
  },
  {
   "cell_type": "code",
   "execution_count": 27,
   "metadata": {},
   "outputs": [
    {
     "name": "stdout",
     "output_type": "stream",
     "text": [
      "[ 0.05287267 -0.03308588  0.03398719 -0.00591936  0.00236096 -0.13915613\n",
      " -0.01754293  0.07795009  0.02535836  0.00335594 -0.0463983   0.0240969\n",
      "  0.0846411   0.10667974  0.07469702 -0.02021478  0.09569519 -0.07963694\n",
      "  0.03295335 -0.00960576  0.03529752  0.0258762  -0.01097059 -0.06774871\n",
      " -0.04522782 -0.02813303 -0.088674   -0.02585277  0.01047909 -0.01654064\n",
      " -0.02097629 -0.03061739]\n",
      "[ 3.02811759 -1.78960229  1.75525967 -0.33941247  0.16181575 -7.88856065\n",
      " -1.16957969  5.09808513  1.46161468  0.2097134  -2.51064163  1.4588541\n",
      "  5.33766552  6.67061841  4.49698575 -1.54738872  5.42365368 -5.81466469\n",
      "  2.15976986 -0.51113348  2.23998127  1.8211375  -0.52577379 -3.72808135\n",
      " -3.01274939 -1.46763384 -5.02079212 -1.49148452  0.70104046 -0.99062943\n",
      " -1.6005018  -2.12563169]\n",
      "[-9.23187297e-04  6.11686576e-04 -6.58095888e-04  1.03233657e-04\n",
      " -3.44473320e-05  2.45474796e-03  2.63132434e-04 -1.19186250e-03\n",
      " -4.39956041e-04 -5.37033213e-05  8.57470838e-04 -3.98025216e-04\n",
      " -1.34218156e-03 -1.70607387e-03 -1.24075216e-03  2.64081918e-04\n",
      " -1.68845022e-03  1.09069792e-03 -5.02795697e-04  1.80521655e-04\n",
      " -5.56216664e-04 -3.67670048e-04  2.28907839e-04  1.23116607e-03\n",
      "  6.78966410e-04  5.39281396e-04  1.56610314e-03  4.48121025e-04\n",
      " -1.56640607e-04  2.76180793e-04  2.74916862e-04  4.41009898e-04]\n",
      "[ 0.05196856 -0.03345798  0.03360961 -0.00593108  0.0023591  -0.14619163\n",
      " -0.01764658  0.07601207  0.02514712  0.00335219 -0.04713597  0.02390603\n",
      "  0.08236445  0.10310609  0.0729142  -0.02035262  0.09280249 -0.08185495\n",
      "  0.03259817 -0.00963669  0.03489056  0.02565632 -0.01101096 -0.06934214\n",
      " -0.04592825 -0.02840127 -0.09143957 -0.02607898  0.01044271 -0.01663273\n",
      " -0.02112478 -0.03093557]\n"
     ]
    }
   ],
   "source": []
  },
  {
   "cell_type": "code",
   "execution_count": null,
   "metadata": {},
   "outputs": [],
   "source": [
    "## resolve the convergence issues \n",
    "# remove the low variance genes and see how it goes\n",
    "## is this multivariate??\n",
    "## save the residuals - read about different types of residuals\n",
    "## run varimax PCA on the residual matrix and evaluate the results \n",
    "# https://pypi.org/project/advanced-pca/"
   ]
  }
 ],
 "metadata": {
  "kernelspec": {
   "display_name": "Python 3",
   "language": "python",
   "name": "python3"
  },
  "language_info": {
   "codemirror_mode": {
    "name": "ipython",
    "version": 3
   },
   "file_extension": ".py",
   "mimetype": "text/x-python",
   "name": "python",
   "nbconvert_exporter": "python",
   "pygments_lexer": "ipython3",
   "version": "3.7.6"
  }
 },
 "nbformat": 4,
 "nbformat_minor": 4
}
